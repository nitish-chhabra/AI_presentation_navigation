{
 "cells": [
  {
   "cell_type": "code",
   "execution_count": 30,
   "metadata": {},
   "outputs": [],
   "source": [
    "# from fastai import *\n",
    "from fastai.vision import *\n",
    "# import numpy as np\n",
    "# import os"
   ]
  },
  {
   "cell_type": "code",
   "execution_count": null,
   "metadata": {},
   "outputs": [],
   "source": [
    "import cv2\n",
    "import torch\n",
    "import time\n",
    "counter = 0\n",
    "\n",
    "cap = cv2.VideoCapture(0)\n",
    "learn = load_learner(os.getcwd())\n",
    "\n",
    "while True:\n",
    "    a = time.time_ns()\n",
    "    ret, frame = cap.read()\n",
    "    t = torch.tensor(np.ascontiguousarray(np.flip(frame, 2)).transpose(2,0,1)).float()/255\n",
    "    img = Image(t)\n",
    "    preds = learn.predict(img)\n",
    "    print(preds)\n",
    "    font = cv2.FONT_HERSHEY_SIMPLEX \n",
    "    if preds[2][learn.data.classes.index(str(preds[0]))].item()>0.95:\n",
    "        cv2.putText(frame, str(preds[0]),(50, 50), font, 1,(0, 255, 255), 2, cv2.LINE_4)\n",
    "    \n",
    "    if counter:\n",
    "        b = time.time_ns()\n",
    "        try:\n",
    "            fps = round(1/((b-a)/ (10 ** 9)),1)\n",
    "        except:\n",
    "            fps = \"Unlimited\"\n",
    "    cv2.putText(frame, str(fps),(250, 50), font, 1,(0, 255, 255), 2, cv2.LINE_4)\n",
    "    cv2.imshow(\"Test\", frame)\n",
    "    counter = 1\n",
    "    \n",
    "    k = cv2.waitKey(1)\n",
    "    if k == ord('q'):\n",
    "        break\n",
    "\n",
    "cap.release()\n",
    "cv2.destroyAllWindows()"
   ]
  }
 ],
 "metadata": {
  "kernelspec": {
   "display_name": "Python 3",
   "language": "python",
   "name": "python3"
  },
  "language_info": {
   "codemirror_mode": {
    "name": "ipython",
    "version": 3
   },
   "file_extension": ".py",
   "mimetype": "text/x-python",
   "name": "python",
   "nbconvert_exporter": "python",
   "pygments_lexer": "ipython3",
   "version": "3.7.8"
  }
 },
 "nbformat": 4,
 "nbformat_minor": 4
}
